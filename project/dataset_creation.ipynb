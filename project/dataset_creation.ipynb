{
 "cells": [
  {
   "cell_type": "code",
   "execution_count": 340,
   "metadata": {
    "scrolled": false
   },
   "outputs": [],
   "source": [
    "import matplotlib.pyplot as plt\n",
    "import numpy as np\n",
    "import torch\n",
    "from torchvision import transforms, datasets\n",
    "from torch.utils.data import Dataset, DataLoader"
   ]
  },
  {
   "cell_type": "code",
   "execution_count": 341,
   "metadata": {},
   "outputs": [],
   "source": [
    "white = 255\n",
    "black = 0\n",
    "\n",
    "def img_tranform(fill_color):\n",
    "    return transforms.Compose([\n",
    "        transforms.RandomRotation(360, fill=fill_color),\n",
    "\n",
    "        # Define size of image and randomly centers image\n",
    "    #     transforms.RandomCrop(300, padding=None, pad_if_needed=True, padding_mode='constant', fill=white),\n",
    "        transforms.ColorJitter(brightness=(0.8, 1), contrast=(0.45, 1)),\n",
    "\n",
    "    ])\n",
    "\n",
    "operators_transform = transforms.Compose([\n",
    "    # Grayscale\n",
    "    transforms.Grayscale(num_output_channels=1),\n",
    "    # Randomly scale up and down\n",
    "    transforms.RandomAffine(0, scale=(0.9, 1.1), fillcolor=white),\n",
    "    \n",
    "    img_tranform(white),\n",
    "])\n",
    "\n",
    "minst_transform = transforms.Compose([\n",
    "    # Scale up\n",
    "    transforms.Pad(70),\n",
    "    transforms.RandomAffine(0, scale=(2.5, 3.2), fillcolor=0),\n",
    "    \n",
    "    img_tranform(black),\n",
    "])\n",
    "\n",
    "# dataset_loader = torch.utils.data.DataLoader(operators_dataset,\n",
    "#                                              batch_size=4, shuffle=True,\n",
    "#                                              num_workers=4)\n"
   ]
  },
  {
   "cell_type": "code",
   "execution_count": 342,
   "metadata": {},
   "outputs": [
    {
     "data": {
      "image/png": "[encoded data removed]",
      "text/plain": [
       "<PIL.Image.Image image mode=L size=353x310 at 0x164624588>"
      ]
     },
     "execution_count": 342,
     "metadata": {},
     "output_type": "execute_result"
    }
   ],
   "source": [
    "# Operators Dataset\n",
    "operators_dataset = datasets.ImageFolder(root='../data/operators', transform=operators_transform)\n",
    "operators_dataset.transform(operators_dataset[0][0])"
   ]
  },
  {
   "cell_type": "code",
   "execution_count": 343,
   "metadata": {},
   "outputs": [
    {
     "data": {
      "image/png": "[encoded data removed]",
      "text/plain": [
       "<PIL.Image.Image image mode=L size=308x308 at 0x1646247B8>"
      ]
     },
     "execution_count": 343,
     "metadata": {},
     "output_type": "execute_result"
    }
   ],
   "source": [
    "# Minst Dataset\n",
    "minst_dataset = datasets.MNIST(\"\", transform=minst_transform, download=True)\n",
    "minst_dataset.transform(minst_dataset[0][0])"
   ]
  },
  {
   "cell_type": "code",
   "execution_count": null,
   "metadata": {},
   "outputs": [],
   "source": []
  },
  {
   "cell_type": "code",
   "execution_count": null,
   "metadata": {},
   "outputs": [],
   "source": []
  }
 ],
 "metadata": {
  "kernelspec": {
   "display_name": "Python 3",
   "language": "python",
   "name": "python3"
  },
  "language_info": {
   "codemirror_mode": {
    "name": "ipython",
    "version": 3
   },
   "file_extension": ".py",
   "mimetype": "text/x-python",
   "name": "python",
   "nbconvert_exporter": "python",
   "pygments_lexer": "ipython3",
   "version": "3.6.4"
  }
 },
 "nbformat": 4,
 "nbformat_minor": 2
}
