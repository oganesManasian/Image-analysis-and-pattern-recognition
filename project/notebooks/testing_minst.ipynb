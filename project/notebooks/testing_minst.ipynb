{
 "cells": [
  {
   "cell_type": "code",
   "execution_count": 1,
   "metadata": {},
   "outputs": [],
   "source": [
    "import os, inspect, sys\n",
    "current_dir = os.path.dirname(os.path.abspath(inspect.getfile(inspect.currentframe())))\n",
    "parent_dir = os.path.dirname(current_dir)\n",
    "sys.path.insert(0, parent_dir)"
   ]
  },
  {
   "cell_type": "code",
   "execution_count": 2,
   "metadata": {},
   "outputs": [],
   "source": [
    "import pickle\n",
    "import PIL\n",
    "import numpy as np\n",
    "from torchvision import transforms\n",
    "\n",
    "def get(name):\n",
    "    try:\n",
    "        with open('{}.pickle'.format(name), 'rb') as handle:\n",
    "            return pickle.load(handle)\n",
    "    except FileNotFoundError:\n",
    "        return {}\n",
    "    \n",
    "images = [x[0] for x in get(\"../digits\")]\n",
    "labels = [\"3\", \"2\", \"7\", \"2\"]"
   ]
  },
  {
   "cell_type": "code",
   "execution_count": 3,
   "metadata": {},
   "outputs": [],
   "source": [
    "from classification import CNNClassifier\n",
    "classifier = CNNClassifier(\"digits\", path=\"../\", minst_binary=False, with_median_filter=True)"
   ]
  },
  {
   "cell_type": "code",
   "execution_count": 4,
   "metadata": {},
   "outputs": [
    {
     "name": "stdout",
     "output_type": "stream",
     "text": [
      "Counter({3: 500})\n",
      "Counter({1: 500})\n",
      "1 2\n",
      "Counter({1: 500})\n",
      "1 7\n",
      "Counter({1: 500})\n",
      "1 2\n"
     ]
    },
    {
     "data": {
      "text/plain": [
       "0.25"
      ]
     },
     "execution_count": 4,
     "metadata": {},
     "output_type": "execute_result"
    }
   ],
   "source": [
    "acc = 0\n",
    "for (img, label) in zip(images, labels):\n",
    "    prediction = classifier.predict(img)\n",
    "    if prediction == label:\n",
    "        acc += 1\n",
    "    else:\n",
    "        print(prediction, label)\n",
    "        \n",
    "acc /= len(images)\n",
    "acc"
   ]
  },
  {
   "cell_type": "code",
   "execution_count": 5,
   "metadata": {},
   "outputs": [
    {
     "data": {
      "image/png": "[encoded data removed]",
      "text/plain": [
       "<PIL.Image.Image image mode=RGB size=19x23 at 0x1384724A8>"
      ]
     },
     "execution_count": 5,
     "metadata": {},
     "output_type": "execute_result"
    }
   ],
   "source": [
    "image = images[2]\n",
    "\n",
    "pil_img = PIL.Image.fromarray((image * 255).astype(np.uint8))\n",
    "pil_img"
   ]
  },
  {
   "cell_type": "code",
   "execution_count": 6,
   "metadata": {},
   "outputs": [
    {
     "data": {
      "image/png": "[encoded data removed]",
      "text/plain": [
       "<PIL.Image.Image image mode=L size=28x28 at 0x138A7A0B8>"
      ]
     },
     "execution_count": 6,
     "metadata": {},
     "output_type": "execute_result"
    }
   ],
   "source": [
    "from skimage.filters import median\n",
    "\n",
    "# def median_filter(img):\n",
    "#     return PIL.Image.fromarray(median(np.array(img)))\n",
    "\n",
    "trans = classifier.get_transforms(binary=True)[:-2]\n",
    "\n",
    "# trans.append(transforms.Lambda(median_filter))\n",
    "\n",
    "side = 28\n",
    "\n",
    "# trans.append(transforms.RandomRotation(360, fill=0))\n",
    "transforms.Compose(trans)(pil_img)"
   ]
  },
  {
   "cell_type": "code",
   "execution_count": 7,
   "metadata": {},
   "outputs": [
    {
     "name": "stdout",
     "output_type": "stream",
     "text": [
      "Counter({1: 500})\n"
     ]
    },
    {
     "data": {
      "text/plain": [
       "'1'"
      ]
     },
     "execution_count": 7,
     "metadata": {},
     "output_type": "execute_result"
    }
   ],
   "source": [
    "classifier.predict(image)"
   ]
  },
  {
   "cell_type": "code",
   "execution_count": null,
   "metadata": {},
   "outputs": [],
   "source": []
  },
  {
   "cell_type": "code",
   "execution_count": null,
   "metadata": {},
   "outputs": [],
   "source": []
  }
 ],
 "metadata": {
  "kernelspec": {
   "display_name": "Python 3",
   "language": "python",
   "name": "python3"
  },
  "language_info": {
   "codemirror_mode": {
    "name": "ipython",
    "version": 3
   },
   "file_extension": ".py",
   "mimetype": "text/x-python",
   "name": "python",
   "nbconvert_exporter": "python",
   "pygments_lexer": "ipython3",
   "version": "3.6.4"
  }
 },
 "nbformat": 4,
 "nbformat_minor": 2
}
