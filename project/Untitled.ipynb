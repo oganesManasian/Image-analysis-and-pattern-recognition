{
 "cells": [
  {
   "cell_type": "code",
   "execution_count": 11,
   "metadata": {},
   "outputs": [],
   "source": [
    "from keras.preprocessing.image import ImageDataGenerator, array_to_img, img_to_array, load_img"
   ]
  },
  {
   "cell_type": "code",
   "execution_count": 58,
   "metadata": {},
   "outputs": [],
   "source": [
    "def generate(filename, count=10, output_dir=\"preview\"):\n",
    "    path = '../data/operators/{}.png'.format(filename)\n",
    "    datagen = ImageDataGenerator(\n",
    "            rotation_range=360,\n",
    "#             width_shift_range=0.2,\n",
    "#             height_shift_range=0.2,\n",
    "#             brightness_range=(0.2,0.3),\n",
    "            shear_range=0.2,\n",
    "            zoom_range=0.2,\n",
    "            horizontal_flip=True,\n",
    "            fill_mode='nearest')\n",
    "\n",
    "    img = load_img(path)  # this is a PIL image\n",
    "    x = img_to_array(img)  # this is a Numpy array with shape (3, 150, 150)\n",
    "    x = x.reshape((1,) + x.shape)  # this is a Numpy array with shape (1, 3, 150, 150)\n",
    "\n",
    "    # the .flow() command below generates batches of randomly transformed images\n",
    "    # and saves the results to the `preview/` directory\n",
    "    i = 0\n",
    "    for batch in datagen.flow(x, batch_size=1,\n",
    "                              save_to_dir=output_dir, save_prefix=filename, save_format='jpeg'):\n",
    "        i += 1\n",
    "        if i > count:\n",
    "            break  # otherwise the generator would loop indefinitely"
   ]
  },
  {
   "cell_type": "code",
   "execution_count": 59,
   "metadata": {},
   "outputs": [],
   "source": [
    "operators = [\"plus\", \"equal\", \"minus\", \"divide\", \"multiply\"]\n",
    "for op in operators:\n",
    "    generate(op)"
   ]
  },
  {
   "cell_type": "code",
   "execution_count": 13,
   "metadata": {},
   "outputs": [],
   "source": [
    "mkdir preview"
   ]
  },
  {
   "cell_type": "code",
   "execution_count": 15,
   "metadata": {},
   "outputs": [
    {
     "name": "stdout",
     "output_type": "stream",
     "text": [
      "cat_0_1035.jpeg  cat_0_301.jpeg   cat_0_5944.jpeg  cat_0_871.jpeg\r\n",
      "cat_0_1871.jpeg  cat_0_3151.jpeg  cat_0_6751.jpeg  cat_0_9264.jpeg\r\n",
      "cat_0_2013.jpeg  cat_0_4335.jpeg  cat_0_7450.jpeg  cat_0_9543.jpeg\r\n",
      "cat_0_2630.jpeg  cat_0_4807.jpeg  cat_0_7974.jpeg\r\n",
      "cat_0_2864.jpeg  cat_0_5046.jpeg  cat_0_8230.jpeg\r\n",
      "cat_0_2907.jpeg  cat_0_5363.jpeg  cat_0_8476.jpeg\r\n"
     ]
    }
   ],
   "source": [
    "ls preview/"
   ]
  },
  {
   "cell_type": "code",
   "execution_count": null,
   "metadata": {},
   "outputs": [],
   "source": []
  }
 ],
 "metadata": {
  "kernelspec": {
   "display_name": "Python 3",
   "language": "python",
   "name": "python3"
  },
  "language_info": {
   "codemirror_mode": {
    "name": "ipython",
    "version": 3
   },
   "file_extension": ".py",
   "mimetype": "text/x-python",
   "name": "python",
   "nbconvert_exporter": "python",
   "pygments_lexer": "ipython3",
   "version": "3.6.4"
  }
 },
 "nbformat": 4,
 "nbformat_minor": 2
}
